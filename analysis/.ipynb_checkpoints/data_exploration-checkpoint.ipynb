{
 "cells": [
  {
   "cell_type": "markdown",
   "id": "553faafa-cc03-4725-82b4-f718bafddc16",
   "metadata": {},
   "source": [
    "# Data exploration\n",
    "\n",
    "This a data exploration and analysis of job offers posted [No Fluff Jobs](https://nofluffjobs.com/pl). Data is obtained either by API (preffered) or web scraping."
   ]
  },
  {
   "cell_type": "code",
   "execution_count": 1,
   "id": "c4f95a72-f968-46ec-aa8d-7e920338c2ae",
   "metadata": {},
   "outputs": [],
   "source": [
    "import requests\n",
    "import functools\n",
    "\n",
    "import pandas as pd\n",
    "import numpy as np\n",
    "from bs4 import BeautifulSoup\n",
    "from plotly import graph_objects as go\n",
    "from plotly import express as px\n",
    "from geopy.geocoders import Nominatim\n",
    "from IPython.display import HTML as html"
   ]
  },
  {
   "cell_type": "markdown",
   "id": "f82bf2b4-ddae-446a-9941-4db21381b97a",
   "metadata": {},
   "source": [
    "## Request resources\n",
    "\n",
    "Get data from the API. The API was explored by using web inspector on a sample posting page. The URL was obtained by network monitoring—in Safari this is under _Network_ and _XHR_. The request is called `posting`."
   ]
  },
  {
   "cell_type": "code",
   "execution_count": 2,
   "id": "29b4399a-9573-458a-94fe-d5245be91d75",
   "metadata": {},
   "outputs": [],
   "source": [
    "r = requests.get('https://nofluffjobs.com/api/search/posting?salaryCurrency=PLN&salaryPeriod=month&region=pl')\n",
    "j = r.json()"
   ]
  },
  {
   "cell_type": "markdown",
   "id": "b0b1af82-8479-47b6-a791-78cf84cf2b3e",
   "metadata": {},
   "source": [
    "Let's examine available keys."
   ]
  },
  {
   "cell_type": "code",
   "execution_count": 3,
   "id": "48417da7-ab38-496d-a8c7-450fdebc7ffc",
   "metadata": {},
   "outputs": [
    {
     "data": {
      "text/plain": [
       "dict_keys(['postings', 'criteriaSearch', 'rawSearch', 'totalCount'])"
      ]
     },
     "execution_count": 3,
     "metadata": {},
     "output_type": "execute_result"
    }
   ],
   "source": [
    "j.keys()"
   ]
  },
  {
   "cell_type": "code",
   "execution_count": 4,
   "id": "df02c95d-7c35-4865-9ae8-d459905ac519",
   "metadata": {},
   "outputs": [
    {
     "data": {
      "text/plain": [
       "({'location': {'picked': [], 'custom': []},\n",
       "  'category': [],\n",
       "  'country': [],\n",
       "  'employment': [],\n",
       "  'company': [],\n",
       "  'seniority': [],\n",
       "  'requirement': {'picked': [], 'custom': []},\n",
       "  'salary': [],\n",
       "  'more': {'picked': [], 'custom': []}},\n",
       " '',\n",
       " 2824)"
      ]
     },
     "execution_count": 4,
     "metadata": {},
     "output_type": "execute_result"
    }
   ],
   "source": [
    "j['criteriaSearch'], j['rawSearch'], j['totalCount']"
   ]
  },
  {
   "cell_type": "markdown",
   "id": "efeb6653-d1a7-45b8-8624-d1a995584f48",
   "metadata": {},
   "source": [
    "Seems that the `criteriaSearch` and `rawSearch` won't be usefull. The `postings` key holds the actual job offers list. It's length should be same as `totalCount`."
   ]
  },
  {
   "cell_type": "code",
   "execution_count": 5,
   "id": "2e27472f-f031-40f6-8383-a5736e5d945a",
   "metadata": {},
   "outputs": [],
   "source": [
    "postings = j['postings']"
   ]
  },
  {
   "cell_type": "code",
   "execution_count": 6,
   "id": "e8464201-07cc-4e17-becb-c2a3d2f75951",
   "metadata": {},
   "outputs": [
    {
     "data": {
      "text/plain": [
       "2824"
      ]
     },
     "execution_count": 6,
     "metadata": {},
     "output_type": "execute_result"
    }
   ],
   "source": [
    "assert len(postings) == j['totalCount'] \n",
    "len(postings)"
   ]
  },
  {
   "cell_type": "markdown",
   "id": "0b7b0ca2-3bbb-419b-a20b-02e9c623876b",
   "metadata": {},
   "source": [
    "## Job offer exploration\n",
    "\n",
    "### Exploring the JSON obtained from the API\n",
    "\n",
    "Let's examine first offer on the list."
   ]
  },
  {
   "cell_type": "code",
   "execution_count": 7,
   "id": "7c225fbe-a023-4071-bcea-d25b18c4c186",
   "metadata": {},
   "outputs": [
    {
     "data": {
      "text/plain": [
       "{'id': 'RELGNKW5',\n",
       " 'name': 'Ringier Axel Springer Tech',\n",
       " 'location': {'places': [{'country': {'code': 'POL', 'name': 'Poland'},\n",
       "    'city': 'Kraków',\n",
       "    'street': 'Pilotów 10',\n",
       "    'postalCode': '31-642',\n",
       "    'geoLocation': {'latitude': 50.0811868, 'longitude': 19.9735468},\n",
       "    'url': 'it-support-specialist-ringier-axel-springer-tech-krakow-relgnkw5'},\n",
       "   {'country': {'code': 'POL', 'name': 'Poland'},\n",
       "    'city': 'Warszawa',\n",
       "    'street': 'Domaniewska 49',\n",
       "    'postalCode': '02 -672',\n",
       "    'geoLocation': {'latitude': 52.1826182, 'longitude': 20.991898},\n",
       "    'url': 'it-support-specialist-ringier-axel-springer-tech-warszawa-relgnkw5'}],\n",
       "  'fullyRemote': False,\n",
       "  'covidTimeRemotely': True},\n",
       " 'posted': 1632483892215,\n",
       " 'renewed': 1633347892215,\n",
       " 'title': 'IT Support Specialist',\n",
       " 'technology': '',\n",
       " 'logo': {'original': 'companies/logos/original/83704361_2740176436065107_2427218883782901760_n_20210908_123708.png',\n",
       "  'jobs_details': 'companies/logos/jobs_details/83704361_2740176436065107_2427218883782901760_n_20210908_123708.png',\n",
       "  'jobs_listing': 'companies/logos/jobs_listing/83704361_2740176436065107_2427218883782901760_n_20210908_123708.png',\n",
       "  'jobs_details_2x': 'companies/logos/jobs_details_2x/83704361_2740176436065107_2427218883782901760_n_20210908_123708.png',\n",
       "  'jobs_listing_2x': 'companies/logos/jobs_listing_2x/83704361_2740176436065107_2427218883782901760_n_20210908_123708.png',\n",
       "  'companies_details': 'companies/logos/companies_details/83704361_2740176436065107_2427218883782901760_n_20210908_123708.png',\n",
       "  'companies_listing': 'companies/logos/companies_listing/83704361_2740176436065107_2427218883782901760_n_20210908_123708.png',\n",
       "  'jobs_details_webp': 'companies/logos/jobs_details/83704361_2740176436065107_2427218883782901760_n_20210908_123708.webp',\n",
       "  'jobs_listing_webp': 'companies/logos/jobs_listing/83704361_2740176436065107_2427218883782901760_n_20210908_123708.webp',\n",
       "  'companies_details_2x': 'companies/logos/companies_details_2x/83704361_2740176436065107_2427218883782901760_n_20210908_123708.png',\n",
       "  'companies_listing_2x': 'companies/logos/companies_listing_2x/83704361_2740176436065107_2427218883782901760_n_20210908_123708.png',\n",
       "  'jobs_details_2x_webp': 'companies/logos/jobs_details_2x/83704361_2740176436065107_2427218883782901760_n_20210908_123708.webp',\n",
       "  'jobs_listing_2x_webp': 'companies/logos/jobs_listing_2x/83704361_2740176436065107_2427218883782901760_n_20210908_123708.webp',\n",
       "  'original_pixel_image': 'companies/logos/original_pixel_image/83704361_2740176436065107_2427218883782901760_n_20210908_123708.png',\n",
       "  'companies_details_webp': 'companies/logos/companies_details/83704361_2740176436065107_2427218883782901760_n_20210908_123708.webp',\n",
       "  'companies_listing_webp': 'companies/logos/companies_listing/83704361_2740176436065107_2427218883782901760_n_20210908_123708.webp',\n",
       "  'companies_details_2x_webp': 'companies/logos/companies_details_2x/83704361_2740176436065107_2427218883782901760_n_20210908_123708.webp',\n",
       "  'companies_listing_2x_webp': 'companies/logos/companies_listing_2x/83704361_2740176436065107_2427218883782901760_n_20210908_123708.webp'},\n",
       " 'category': 'support',\n",
       " 'seniority': ['Mid'],\n",
       " 'url': 'it-support-specialist-ringier-axel-springer-tech-krakow-relgnkw5',\n",
       " 'regions': ['pl'],\n",
       " 'salary': {'from': 5300, 'to': 8900, 'type': 'b2b', 'currency': 'PLN'},\n",
       " 'flavors': ['it', 'business'],\n",
       " 'topInSearch': False,\n",
       " 'highlighted': False,\n",
       " 'onlineInterviewAvailable': True}"
      ]
     },
     "execution_count": 7,
     "metadata": {},
     "output_type": "execute_result"
    }
   ],
   "source": [
    "postings[0]"
   ]
  },
  {
   "cell_type": "markdown",
   "id": "03ef3210-9c7d-4358-afb1-a6f60fb07814",
   "metadata": {},
   "source": [
    "The most interesting keys for anaylysis and predictions seem to be `location`, `technology`, `category`, `seniority` and, `salary`. Differene between current time and `posted` may be usefull for general analysis (how long a posting is active); same with 'fullyRemote' (would be nice to have a pie chart of _remote_ vs _office_). Company `name`, job `title`, and `regions` won't be useful for analysis but provide some extra information. `id` and `url` may be useful for further processing. Keys like `renowed`, `logo`, `flavors`, `topInSearch`, `highlighted`, and `onlineInterviewAvailable` are either not very interesting or irrelevant."
   ]
  },
  {
   "cell_type": "markdown",
   "id": "edd301d9-b058-4fda-a998-2609559e71b8",
   "metadata": {},
   "source": [
    "### Scrapping the missing information\n",
    "\n",
    "However, the actual posting pages contain much more information than the API provides. Seems that some information is server-site generated. In this case we have to scrap it. After exploring the postings addresses and the JSON data it can be seen that the posting's html page is under `https://nofluffjobs.com/pl/job/` + `url` insinde the JSON (and the url itslef is combination of some other keys like `title` and `id`)."
   ]
  },
  {
   "cell_type": "code",
   "execution_count": 8,
   "id": "82696134-f285-4888-ab75-7d6a09238319",
   "metadata": {},
   "outputs": [],
   "source": [
    "html_posting = requests.get('https://nofluffjobs.com/pl/job/' + postings[0]['url'])"
   ]
  },
  {
   "cell_type": "code",
   "execution_count": 9,
   "id": "7b61096d-a522-4159-a04b-b8f2e45c2bdc",
   "metadata": {},
   "outputs": [],
   "source": [
    "soup = BeautifulSoup(html_posting.content, 'html.parser')"
   ]
  },
  {
   "cell_type": "markdown",
   "id": "3824de9e-cd16-4da9-bd6e-6a0805417f06",
   "metadata": {},
   "source": [
    "The most valubale info lays in the _Requirements_ part of the posting. Let's extract the list of requirements keywords."
   ]
  },
  {
   "cell_type": "code",
   "execution_count": 10,
   "id": "d94cef74-ebeb-4cce-9c82-d5f4ee4733f8",
   "metadata": {},
   "outputs": [
    {
     "data": {
      "text/plain": [
       "<div _ngcontent-sc317=\"\" class=\"p-20\" id=\"posting-requirements\"><common-posting-requirements _ngcontent-sc317=\"\" _nghost-sc301=\"\" class=\"d-block\"><h2 _ngcontent-sc301=\"\">Wymagania obowiązkowe</h2><common-posting-item-tag _ngcontent-sc301=\"\" _nghost-sc300=\"\"><button _ngcontent-sc300=\"\" class=\"btn btn-outline-success btn-sm no-cursor text-truncate\" type=\"button\"> English </button><!-- --><!-- --><!-- --></common-posting-item-tag><common-posting-item-tag _ngcontent-sc301=\"\" _nghost-sc300=\"\"><button _ngcontent-sc300=\"\" class=\"btn btn-outline-success btn-sm no-cursor text-truncate\" type=\"button\"> Polish </button><!-- --><!-- --><!-- --></common-posting-item-tag><common-posting-item-tag _ngcontent-sc301=\"\" _nghost-sc300=\"\"><button _ngcontent-sc300=\"\" class=\"btn btn-outline-success btn-sm no-cursor text-truncate\" type=\"button\"> Communication skills </button><!-- --><!-- --><!-- --></common-posting-item-tag><common-posting-item-tag _ngcontent-sc301=\"\" _nghost-sc300=\"\"><button _ngcontent-sc300=\"\" class=\"btn btn-outline-success btn-sm no-cursor text-truncate\" type=\"button\"> Proactivity </button><!-- --><!-- --><!-- --></common-posting-item-tag><!-- --></common-posting-requirements><common-posting-requirements _ngcontent-sc317=\"\" _nghost-sc301=\"\" class=\"d-block mt-3\" id=\"posting-nice-to-have\"><h2 _ngcontent-sc301=\"\">Mile widziane</h2><common-posting-item-tag _ngcontent-sc301=\"\" _nghost-sc300=\"\"><button _ngcontent-sc300=\"\" class=\"btn btn-outline-success btn-sm no-cursor text-truncate\" type=\"button\"> Linux </button><!-- --><!-- --><!-- --></common-posting-item-tag><common-posting-item-tag _ngcontent-sc301=\"\" _nghost-sc300=\"\"><button _ngcontent-sc300=\"\" class=\"btn btn-outline-success btn-sm no-cursor text-truncate\" type=\"button\"> Windows </button><!-- --><!-- --><!-- --></common-posting-item-tag><common-posting-item-tag _ngcontent-sc301=\"\" _nghost-sc300=\"\"><button _ngcontent-sc300=\"\" class=\"btn btn-outline-success btn-sm no-cursor text-truncate\" type=\"button\"> VMware </button><!-- --><!-- --><!-- --></common-posting-item-tag><common-posting-item-tag _ngcontent-sc301=\"\" _nghost-sc300=\"\"><button _ngcontent-sc300=\"\" class=\"btn btn-outline-success btn-sm no-cursor text-truncate\" type=\"button\"> Leadership skills </button><!-- --><!-- --><!-- --></common-posting-item-tag><common-posting-item-tag _ngcontent-sc301=\"\" _nghost-sc300=\"\"><button _ngcontent-sc300=\"\" class=\"btn btn-outline-success btn-sm no-cursor text-truncate\" type=\"button\"> Critical thinking </button><!-- --><!-- --><!-- --></common-posting-item-tag><!-- --></common-posting-requirements><!-- --></div>"
      ]
     },
     "execution_count": 10,
     "metadata": {},
     "output_type": "execute_result"
    }
   ],
   "source": [
    "requirements_div = soup.find(id='posting-requirements')\n",
    "requirements_div"
   ]
  },
  {
   "cell_type": "code",
   "execution_count": 11,
   "id": "b73fea2e-49fc-4cc5-bd9a-6041b7aa79f2",
   "metadata": {},
   "outputs": [
    {
     "data": {
      "text/plain": [
       "['english',\n",
       " 'polish',\n",
       " 'communication skills',\n",
       " 'proactivity',\n",
       " 'linux',\n",
       " 'windows',\n",
       " 'vmware',\n",
       " 'leadership skills',\n",
       " 'critical thinking']"
      ]
     },
     "execution_count": 11,
     "metadata": {},
     "output_type": "execute_result"
    }
   ],
   "source": [
    "buttons_divs = requirements_div.find_all(class_='btn')\n",
    "requirements = [button.getText().lower().strip() for button in buttons_divs]\n",
    "requirements"
   ]
  },
  {
   "cell_type": "markdown",
   "id": "64dd24ad-ba93-499a-85bf-5b5ab1c2e493",
   "metadata": {},
   "source": [
    "## Preliminary statistics and data cleaning\n",
    "\n",
    "Let's look at the data we have."
   ]
  },
  {
   "cell_type": "code",
   "execution_count": 12,
   "id": "8771c8e7-aee5-49ba-829a-af6e25419de9",
   "metadata": {},
   "outputs": [],
   "source": [
    "df = pd.DataFrame.from_dict(postings)"
   ]
  },
  {
   "cell_type": "code",
   "execution_count": 13,
   "id": "0168e067-7844-4376-b335-12b877c262f7",
   "metadata": {},
   "outputs": [
    {
     "data": {
      "text/html": [
       "<div>\n",
       "<style scoped>\n",
       "    .dataframe tbody tr th:only-of-type {\n",
       "        vertical-align: middle;\n",
       "    }\n",
       "\n",
       "    .dataframe tbody tr th {\n",
       "        vertical-align: top;\n",
       "    }\n",
       "\n",
       "    .dataframe thead th {\n",
       "        text-align: right;\n",
       "    }\n",
       "</style>\n",
       "<table border=\"1\" class=\"dataframe\">\n",
       "  <thead>\n",
       "    <tr style=\"text-align: right;\">\n",
       "      <th></th>\n",
       "      <th>id</th>\n",
       "      <th>name</th>\n",
       "      <th>location</th>\n",
       "      <th>posted</th>\n",
       "      <th>renewed</th>\n",
       "      <th>title</th>\n",
       "      <th>technology</th>\n",
       "      <th>logo</th>\n",
       "      <th>category</th>\n",
       "      <th>seniority</th>\n",
       "      <th>url</th>\n",
       "      <th>regions</th>\n",
       "      <th>salary</th>\n",
       "      <th>flavors</th>\n",
       "      <th>topInSearch</th>\n",
       "      <th>highlighted</th>\n",
       "      <th>onlineInterviewAvailable</th>\n",
       "      <th>referralBonus</th>\n",
       "      <th>referralBonusCurrency</th>\n",
       "    </tr>\n",
       "  </thead>\n",
       "  <tbody>\n",
       "    <tr>\n",
       "      <th>0</th>\n",
       "      <td>RELGNKW5</td>\n",
       "      <td>Ringier Axel Springer Tech</td>\n",
       "      <td>{'places': [{'country': {'code': 'POL', 'name'...</td>\n",
       "      <td>1632483892215</td>\n",
       "      <td>1.633348e+12</td>\n",
       "      <td>IT Support Specialist</td>\n",
       "      <td></td>\n",
       "      <td>{'original': 'companies/logos/original/8370436...</td>\n",
       "      <td>support</td>\n",
       "      <td>[Mid]</td>\n",
       "      <td>it-support-specialist-ringier-axel-springer-te...</td>\n",
       "      <td>[pl]</td>\n",
       "      <td>{'from': 5300, 'to': 8900, 'type': 'b2b', 'cur...</td>\n",
       "      <td>[it, business]</td>\n",
       "      <td>False</td>\n",
       "      <td>False</td>\n",
       "      <td>True</td>\n",
       "      <td>NaN</td>\n",
       "      <td>NaN</td>\n",
       "    </tr>\n",
       "    <tr>\n",
       "      <th>1</th>\n",
       "      <td>B7CGBIAZ</td>\n",
       "      <td>New Gravity</td>\n",
       "      <td>{'places': [{'country': {'code': 'POL', 'name'...</td>\n",
       "      <td>1631619801355</td>\n",
       "      <td>1.633348e+12</td>\n",
       "      <td>Senior Project Manager</td>\n",
       "      <td></td>\n",
       "      <td>{'original': 'companies/logos/original/newgrav...</td>\n",
       "      <td>projectManager</td>\n",
       "      <td>[Senior]</td>\n",
       "      <td>senior-project-manager-new-gravity-poznan-b7cg...</td>\n",
       "      <td>[pl]</td>\n",
       "      <td>{'from': 12000, 'to': 19400, 'type': 'b2b', 'c...</td>\n",
       "      <td>[it, business]</td>\n",
       "      <td>False</td>\n",
       "      <td>False</td>\n",
       "      <td>True</td>\n",
       "      <td>NaN</td>\n",
       "      <td>NaN</td>\n",
       "    </tr>\n",
       "    <tr>\n",
       "      <th>2</th>\n",
       "      <td>TARGFMSP</td>\n",
       "      <td>Divante</td>\n",
       "      <td>{'places': [{'city': 'Remote', 'url': 'node-js...</td>\n",
       "      <td>1633347786475</td>\n",
       "      <td>NaN</td>\n",
       "      <td>Node.js Developer</td>\n",
       "      <td>node</td>\n",
       "      <td>{'original': '/upload/Divante_Sp_z_o_o_2020012...</td>\n",
       "      <td>frontend</td>\n",
       "      <td>[Mid]</td>\n",
       "      <td>node-js-developer-divante-remote-targfmsp</td>\n",
       "      <td>[pl, cz, sk, ua, by]</td>\n",
       "      <td>{'from': 10080, 'to': 19824, 'type': 'b2b', 'c...</td>\n",
       "      <td>[it]</td>\n",
       "      <td>False</td>\n",
       "      <td>False</td>\n",
       "      <td>True</td>\n",
       "      <td>NaN</td>\n",
       "      <td>NaN</td>\n",
       "    </tr>\n",
       "  </tbody>\n",
       "</table>\n",
       "</div>"
      ],
      "text/plain": [
       "         id                        name  \\\n",
       "0  RELGNKW5  Ringier Axel Springer Tech   \n",
       "1  B7CGBIAZ                 New Gravity   \n",
       "2  TARGFMSP                     Divante   \n",
       "\n",
       "                                            location         posted  \\\n",
       "0  {'places': [{'country': {'code': 'POL', 'name'...  1632483892215   \n",
       "1  {'places': [{'country': {'code': 'POL', 'name'...  1631619801355   \n",
       "2  {'places': [{'city': 'Remote', 'url': 'node-js...  1633347786475   \n",
       "\n",
       "        renewed                   title technology  \\\n",
       "0  1.633348e+12   IT Support Specialist              \n",
       "1  1.633348e+12  Senior Project Manager              \n",
       "2           NaN       Node.js Developer       node   \n",
       "\n",
       "                                                logo        category  \\\n",
       "0  {'original': 'companies/logos/original/8370436...         support   \n",
       "1  {'original': 'companies/logos/original/newgrav...  projectManager   \n",
       "2  {'original': '/upload/Divante_Sp_z_o_o_2020012...        frontend   \n",
       "\n",
       "  seniority                                                url  \\\n",
       "0     [Mid]  it-support-specialist-ringier-axel-springer-te...   \n",
       "1  [Senior]  senior-project-manager-new-gravity-poznan-b7cg...   \n",
       "2     [Mid]          node-js-developer-divante-remote-targfmsp   \n",
       "\n",
       "                regions                                             salary  \\\n",
       "0                  [pl]  {'from': 5300, 'to': 8900, 'type': 'b2b', 'cur...   \n",
       "1                  [pl]  {'from': 12000, 'to': 19400, 'type': 'b2b', 'c...   \n",
       "2  [pl, cz, sk, ua, by]  {'from': 10080, 'to': 19824, 'type': 'b2b', 'c...   \n",
       "\n",
       "          flavors  topInSearch  highlighted  onlineInterviewAvailable  \\\n",
       "0  [it, business]        False        False                      True   \n",
       "1  [it, business]        False        False                      True   \n",
       "2            [it]        False        False                      True   \n",
       "\n",
       "   referralBonus referralBonusCurrency  \n",
       "0            NaN                   NaN  \n",
       "1            NaN                   NaN  \n",
       "2            NaN                   NaN  "
      ]
     },
     "execution_count": 13,
     "metadata": {},
     "output_type": "execute_result"
    }
   ],
   "source": [
    "df.head(3)"
   ]
  },
  {
   "cell_type": "markdown",
   "id": "7752a58e-db89-431a-91f3-e6dcc353b9fc",
   "metadata": {},
   "source": [
    "## Preliminary cleaning\n",
    "\n",
    "The table is rather messy, some columns should be dropped. After that we can reegxamine the data."
   ]
  },
  {
   "cell_type": "code",
   "execution_count": 14,
   "id": "85d90d76-7c3e-478a-a85f-a0396b0743ad",
   "metadata": {},
   "outputs": [],
   "source": [
    "df = df.drop(columns=['renewed', \n",
    "                      'logo',\n",
    "                      'regions',\n",
    "                      'flavors',\n",
    "                      'topInSearch',\n",
    "                      'highlighted',\n",
    "                      'onlineInterviewAvailable',\n",
    "                      'referralBonus',\n",
    "                      'referralBonusCurrency'])"
   ]
  },
  {
   "cell_type": "code",
   "execution_count": 15,
   "id": "052d69b7-3440-4e48-85bd-4e66d70321a5",
   "metadata": {},
   "outputs": [
    {
     "data": {
      "text/html": [
       "<div>\n",
       "<style scoped>\n",
       "    .dataframe tbody tr th:only-of-type {\n",
       "        vertical-align: middle;\n",
       "    }\n",
       "\n",
       "    .dataframe tbody tr th {\n",
       "        vertical-align: top;\n",
       "    }\n",
       "\n",
       "    .dataframe thead th {\n",
       "        text-align: right;\n",
       "    }\n",
       "</style>\n",
       "<table border=\"1\" class=\"dataframe\">\n",
       "  <thead>\n",
       "    <tr style=\"text-align: right;\">\n",
       "      <th></th>\n",
       "      <th>id</th>\n",
       "      <th>name</th>\n",
       "      <th>location</th>\n",
       "      <th>posted</th>\n",
       "      <th>title</th>\n",
       "      <th>technology</th>\n",
       "      <th>category</th>\n",
       "      <th>seniority</th>\n",
       "      <th>url</th>\n",
       "      <th>salary</th>\n",
       "    </tr>\n",
       "  </thead>\n",
       "  <tbody>\n",
       "    <tr>\n",
       "      <th>0</th>\n",
       "      <td>RELGNKW5</td>\n",
       "      <td>Ringier Axel Springer Tech</td>\n",
       "      <td>{'places': [{'country': {'code': 'POL', 'name'...</td>\n",
       "      <td>1632483892215</td>\n",
       "      <td>IT Support Specialist</td>\n",
       "      <td></td>\n",
       "      <td>support</td>\n",
       "      <td>[Mid]</td>\n",
       "      <td>it-support-specialist-ringier-axel-springer-te...</td>\n",
       "      <td>{'from': 5300, 'to': 8900, 'type': 'b2b', 'cur...</td>\n",
       "    </tr>\n",
       "    <tr>\n",
       "      <th>1</th>\n",
       "      <td>B7CGBIAZ</td>\n",
       "      <td>New Gravity</td>\n",
       "      <td>{'places': [{'country': {'code': 'POL', 'name'...</td>\n",
       "      <td>1631619801355</td>\n",
       "      <td>Senior Project Manager</td>\n",
       "      <td></td>\n",
       "      <td>projectManager</td>\n",
       "      <td>[Senior]</td>\n",
       "      <td>senior-project-manager-new-gravity-poznan-b7cg...</td>\n",
       "      <td>{'from': 12000, 'to': 19400, 'type': 'b2b', 'c...</td>\n",
       "    </tr>\n",
       "    <tr>\n",
       "      <th>2</th>\n",
       "      <td>TARGFMSP</td>\n",
       "      <td>Divante</td>\n",
       "      <td>{'places': [{'city': 'Remote', 'url': 'node-js...</td>\n",
       "      <td>1633347786475</td>\n",
       "      <td>Node.js Developer</td>\n",
       "      <td>node</td>\n",
       "      <td>frontend</td>\n",
       "      <td>[Mid]</td>\n",
       "      <td>node-js-developer-divante-remote-targfmsp</td>\n",
       "      <td>{'from': 10080, 'to': 19824, 'type': 'b2b', 'c...</td>\n",
       "    </tr>\n",
       "  </tbody>\n",
       "</table>\n",
       "</div>"
      ],
      "text/plain": [
       "         id                        name  \\\n",
       "0  RELGNKW5  Ringier Axel Springer Tech   \n",
       "1  B7CGBIAZ                 New Gravity   \n",
       "2  TARGFMSP                     Divante   \n",
       "\n",
       "                                            location         posted  \\\n",
       "0  {'places': [{'country': {'code': 'POL', 'name'...  1632483892215   \n",
       "1  {'places': [{'country': {'code': 'POL', 'name'...  1631619801355   \n",
       "2  {'places': [{'city': 'Remote', 'url': 'node-js...  1633347786475   \n",
       "\n",
       "                    title technology        category seniority  \\\n",
       "0   IT Support Specialist                    support     [Mid]   \n",
       "1  Senior Project Manager             projectManager  [Senior]   \n",
       "2       Node.js Developer       node        frontend     [Mid]   \n",
       "\n",
       "                                                 url  \\\n",
       "0  it-support-specialist-ringier-axel-springer-te...   \n",
       "1  senior-project-manager-new-gravity-poznan-b7cg...   \n",
       "2          node-js-developer-divante-remote-targfmsp   \n",
       "\n",
       "                                              salary  \n",
       "0  {'from': 5300, 'to': 8900, 'type': 'b2b', 'cur...  \n",
       "1  {'from': 12000, 'to': 19400, 'type': 'b2b', 'c...  \n",
       "2  {'from': 10080, 'to': 19824, 'type': 'b2b', 'c...  "
      ]
     },
     "execution_count": 15,
     "metadata": {},
     "output_type": "execute_result"
    }
   ],
   "source": [
    "df.head(3)"
   ]
  },
  {
   "cell_type": "markdown",
   "id": "a6cc3163-9904-48bf-b144-88b2507a50da",
   "metadata": {},
   "source": [
    "Some rows may be dropped (e.g. with empty values), but we leave them for now. They can have some utility or not depending on the future use case."
   ]
  },
  {
   "cell_type": "markdown",
   "id": "d42ff462-6915-418f-bf8f-6508492baa88",
   "metadata": {},
   "source": [
    "### Values exploaration\n",
    "\n",
    "#### Job technologies\n",
    "\n",
    "Let's explore some column values. We will start with `technology` column."
   ]
  },
  {
   "cell_type": "code",
   "execution_count": 16,
   "id": "ca6d0d8d-d98f-4d45-8606-a80c67addfdc",
   "metadata": {},
   "outputs": [
    {
     "data": {
      "text/plain": [
       "                 686\n",
       "java             406\n",
       "python           245\n",
       ".net             236\n",
       "javascript       170\n",
       "php              138\n",
       "react            131\n",
       "angular           83\n",
       "android           68\n",
       "ios               48\n",
       "c++               46\n",
       "aws               32\n",
       "node              29\n",
       "scala             28\n",
       "selenium          26\n",
       "sql               22\n",
       "ruby on rails     20\n",
       "c                 17\n",
       "SQL               13\n",
       "Golang            12\n",
       "node.js           12\n",
       "html&css          12\n",
       "azure             12\n",
       "spark             10\n",
       "ruby              10\n",
       "AWS               10\n",
       "jenkins            9\n",
       "ansible            9\n",
       "Kubernetes         9\n",
       "Azure              9\n",
       "Name: technology, dtype: int64"
      ]
     },
     "execution_count": 16,
     "metadata": {},
     "output_type": "execute_result"
    }
   ],
   "source": [
    "df['technology'].value_counts().sort_values(ascending=False).head(30)"
   ]
  },
  {
   "cell_type": "markdown",
   "id": "0e304f9f-b0b2-465b-81fa-cbd1f4f515a4",
   "metadata": {},
   "source": [
    "Some names seem questionable. Columns `node` and `node.js` should definietely be merged. Javascript frameworks also kind of doouble the langeage as a whole, but they seem so big, that we may leave them as they are. Some grouping and categorization techniques may be possible but this is too much hustle for now."
   ]
  },
  {
   "cell_type": "code",
   "execution_count": 17,
   "id": "0478be48-b28c-4d72-89d7-7cc5843ce0c5",
   "metadata": {},
   "outputs": [],
   "source": [
    "df = df.replace('node.js', 'node')\n",
    "df = df.replace('angular', 'javascript')\n",
    "df = df.replace('react', 'javascript')"
   ]
  },
  {
   "cell_type": "markdown",
   "id": "2c582630-d13d-4a8d-9447-320c99dbb38d",
   "metadata": {},
   "source": [
    "#### Job categories"
   ]
  },
  {
   "cell_type": "code",
   "execution_count": 18,
   "id": "e0c40913-cf69-4d05-82fe-46f97d05d383",
   "metadata": {},
   "outputs": [
    {
     "data": {
      "text/plain": [
       "backend                   818\n",
       "frontend                  345\n",
       "fullstack                 344\n",
       "testing                   226\n",
       "devops                    203\n",
       "mobile                    138\n",
       "businessAnalyst            77\n",
       "itAdministrator            71\n",
       "bigData                    66\n",
       "projectManager             64\n",
       "ux                         64\n",
       "support                    60\n",
       "businessIntelligence       59\n",
       "other                      56\n",
       "productManagement          45\n",
       "embedded                   41\n",
       "security                   40\n",
       "artificialIntelligence     38\n",
       "agile                      23\n",
       "hr                         16\n",
       "sales                      15\n",
       "marketing                  11\n",
       "gaming                      4\n",
       "Name: category, dtype: int64"
      ]
     },
     "execution_count": 18,
     "metadata": {},
     "output_type": "execute_result"
    }
   ],
   "source": [
    "df['category'].value_counts().sort_values(ascending=False)"
   ]
  },
  {
   "cell_type": "markdown",
   "id": "8711d422-041a-4d28-afe0-678c738d94c0",
   "metadata": {},
   "source": [
    "The categories in the `category` column seem fine as they are\n",
    "\n",
    "#### Seniority"
   ]
  },
  {
   "cell_type": "code",
   "execution_count": 19,
   "id": "bd1d0448-2ec6-4085-a7ed-9297de076b95",
   "metadata": {},
   "outputs": [
    {
     "name": "stdout",
     "output_type": "stream",
     "text": [
      "[Mid]                1022\n",
      "[Senior]              557\n",
      "[Mid, Senior]         527\n",
      "[Senior, Mid]         273\n",
      "[Junior]              186\n",
      "[Senior, Expert]      160\n",
      "[Expert]               49\n",
      "[Expert, Senior]       27\n",
      "[Trainee, Junior]      10\n",
      "[Trainee]              10\n",
      "[Junior, Trainee]       3\n",
      "Name: seniority, dtype: int64\n"
     ]
    }
   ],
   "source": [
    "# There is an TypeError that doesn't affect the results so we silence it on this step\n",
    "try:\n",
    "    print(df['seniority'].value_counts())\n",
    "except TypeError():\n",
    "    pass"
   ]
  },
  {
   "cell_type": "markdown",
   "id": "a1a5c1d8-4e41-497e-8474-d41775ab000c",
   "metadata": {},
   "source": [
    "This doesn't look good, the multi-level entries should be fixed somehow.\n",
    "\n",
    "#### Location"
   ]
  },
  {
   "cell_type": "code",
   "execution_count": 20,
   "id": "3abb32fd-a281-4ce7-b6d4-7058699c39c0",
   "metadata": {},
   "outputs": [
    {
     "data": {
      "text/plain": [
       "{'places': [{'country': {'code': 'POL', 'name': 'Poland'},\n",
       "   'city': 'Poznań',\n",
       "   'street': 'Zwierzyniecka 3',\n",
       "   'postalCode': '60-813',\n",
       "   'geoLocation': {'latitude': 52.4072161, 'longitude': 16.9110669},\n",
       "   'url': 'senior-project-manager-new-gravity-poznan-b7cgbiaz'}],\n",
       " 'fullyRemote': False,\n",
       " 'covidTimeRemotely': True}"
      ]
     },
     "execution_count": 20,
     "metadata": {},
     "output_type": "execute_result"
    }
   ],
   "source": [
    "df.iloc[1]['location']"
   ]
  },
  {
   "cell_type": "markdown",
   "id": "b6c1f2a8-1e7b-4f68-bef8-9f87f1dc052b",
   "metadata": {},
   "source": [
    "This is too complex, remote options should be separated. Other data should be cleaned.\n",
    "\n",
    "#### Salary"
   ]
  },
  {
   "cell_type": "code",
   "execution_count": 21,
   "id": "b50ce0d4-c683-4bb0-936c-c1aa7069a0ab",
   "metadata": {},
   "outputs": [
    {
     "data": {
      "text/plain": [
       "{'from': 5300, 'to': 8900, 'type': 'b2b', 'currency': 'PLN'}"
      ]
     },
     "execution_count": 21,
     "metadata": {},
     "output_type": "execute_result"
    }
   ],
   "source": [
    "df['salary'][0]"
   ]
  },
  {
   "cell_type": "markdown",
   "id": "9c77ea1c-0fcb-4095-b170-8f36fac2a3e4",
   "metadata": {},
   "source": [
    "## Preliminary preprocessing"
   ]
  },
  {
   "cell_type": "code",
   "execution_count": 22,
   "id": "3a90337d-0b0b-4901-98d5-3438b6d44139",
   "metadata": {},
   "outputs": [],
   "source": [
    "prep_df = df"
   ]
  },
  {
   "cell_type": "markdown",
   "id": "8011f05d-e131-4b73-957d-4c4e97df515d",
   "metadata": {},
   "source": [
    "### Extract cities information and consistent location"
   ]
  },
  {
   "cell_type": "code",
   "execution_count": 23,
   "id": "3cc17dd4-ff79-4dff-973b-33490d737109",
   "metadata": {},
   "outputs": [],
   "source": [
    "class Geolocator:\n",
    "    geolocator = Nominatim(user_agent='myapplication')\n",
    "        \n",
    "    def __call__(self, city_name):\n",
    "        return self.get_universal_city_name_lat_lon(city_name)\n",
    "    \n",
    "    @classmethod\n",
    "    @functools.cache\n",
    "    def get_universal_city_name_lat_lon(cls, city_name):\n",
    "        location = cls.geolocator.geocode(city_name)\n",
    "\n",
    "        if location is None:\n",
    "            return pd.Series([np.NaN, np.NaN, np.NaN])\n",
    "\n",
    "        split_loc = location.address.split(',')\n",
    "        city_name, country_name = split_loc[0].strip(), split_loc[-1].strip()\n",
    "\n",
    "        if country_name == 'Polska':\n",
    "            return pd.Series([city_name, location.latitude, location.longitude])\n",
    "        else:\n",
    "            return pd.Series([np.NaN, np.NaN, np.NaN])\n",
    "            "
   ]
  },
  {
   "cell_type": "code",
   "execution_count": null,
   "id": "86a8bc8d-4aed-405c-87ae-c7b15d97a0fa",
   "metadata": {},
   "outputs": [],
   "source": [
    "geolocator = Geolocator()\n",
    "prep_df['city'] = prep_df['location'].transform(lambda loc_dict: [geolocator(loc['city']) for loc in loc_dict['places']])"
   ]
  },
  {
   "cell_type": "markdown",
   "id": "31102bd5-7e68-4365-bd7a-2d9387592cd8",
   "metadata": {},
   "source": [
    "### Extract remote"
   ]
  },
  {
   "cell_type": "code",
   "execution_count": null,
   "id": "b11238fc-3f72-4af1-b0d4-24aa2a8c453b",
   "metadata": {},
   "outputs": [],
   "source": [
    "prep_df['remote'] = prep_df['location'].transform(lambda location_dict: location_dict['fullyRemote'])"
   ]
  },
  {
   "cell_type": "markdown",
   "id": "009175e4-b4e8-4025-a48d-655ca4cb0163",
   "metadata": {},
   "source": [
    "### Extract contract type"
   ]
  },
  {
   "cell_type": "code",
   "execution_count": null,
   "id": "55b808f1-ef38-406c-a821-02e00d02069d",
   "metadata": {},
   "outputs": [],
   "source": [
    "prep_df['contract_type'] = prep_df['salary'].transform(lambda salary_dict: salary_dict['type'])"
   ]
  },
  {
   "cell_type": "markdown",
   "id": "6baeba2e-7cc8-4ddc-ac92-0c38b75b866d",
   "metadata": {},
   "source": [
    "### Extract salary range and mean"
   ]
  },
  {
   "cell_type": "code",
   "execution_count": null,
   "id": "b3f34999-a9c0-4f6d-a20e-a820864a622b",
   "metadata": {},
   "outputs": [],
   "source": [
    "prep_df['salary_min'] = prep_df['salary'].transform(lambda salary_dict: salary_dict['from'])\n",
    "prep_df['salary_max'] = prep_df['salary'].transform(lambda salary_dict: salary_dict['to'])\n",
    "prep_df['salary_mean'] = prep_df[['salary_max', 'salary_min']].mean(axis=1)"
   ]
  },
  {
   "cell_type": "markdown",
   "id": "e4bf720d-a1c5-4c90-9ad6-30ffb5e66fff",
   "metadata": {},
   "source": [
    "### Seniority ordering"
   ]
  },
  {
   "cell_type": "code",
   "execution_count": null,
   "id": "f780fb3d-13ca-4f12-bad4-5076124e96e4",
   "metadata": {},
   "outputs": [],
   "source": [
    "prep_df['seniority'] = prep_df['seniority'].transform(lambda sen_list: sorted(sen_list))"
   ]
  },
  {
   "cell_type": "markdown",
   "id": "5f4bc8ee-d69c-41fb-add9-6e7f34841bd0",
   "metadata": {},
   "source": [
    "## Cleaning after data extraction\n",
    "\n",
    "Remove posts with salaries in foreign currencies."
   ]
  },
  {
   "cell_type": "code",
   "execution_count": null,
   "id": "837c0cd3-b3f5-4273-a84d-40671e5cf658",
   "metadata": {},
   "outputs": [],
   "source": [
    "currency = prep_df['salary'].transform(lambda salary: salary['currency'])\n",
    "prep_df = prep_df[currency == 'PLN']"
   ]
  },
  {
   "cell_type": "code",
   "execution_count": null,
   "id": "f320353b-af5f-42b3-96f2-5e081a77a410",
   "metadata": {},
   "outputs": [],
   "source": [
    "prep_df.iloc[0]['salary']"
   ]
  },
  {
   "cell_type": "code",
   "execution_count": null,
   "id": "d58e6942-3ec5-4b52-9d42-7e0f62ce6b52",
   "metadata": {},
   "outputs": [],
   "source": [
    "prep_df = prep_df.drop(columns=['location', 'salary'])\n",
    "prep_df = prep_df.replace('', None)"
   ]
  },
  {
   "cell_type": "code",
   "execution_count": null,
   "id": "49990c68-5d8e-456a-86d0-3034b749b40f",
   "metadata": {},
   "outputs": [],
   "source": [
    "prep_df.head(3)"
   ]
  },
  {
   "cell_type": "markdown",
   "id": "e1068000-591d-4a44-a1b8-3d16b4d5c81f",
   "metadata": {},
   "source": [
    "## Processed data exploration"
   ]
  },
  {
   "cell_type": "code",
   "execution_count": null,
   "id": "378e8156-aa7b-4764-918a-28f0bd82d97f",
   "metadata": {},
   "outputs": [],
   "source": [
    "df_with_salaries = prep_df[(prep_df['salary_min'] > 0) & (prep_df['salary_max'] > prep_df['salary_min'])]\n",
    "df_with_salaries[['salary_min', 'salary_max', 'salary_mean']].describe()"
   ]
  },
  {
   "cell_type": "markdown",
   "id": "da06d869-e8ac-466c-bded-0ce348ec1932",
   "metadata": {},
   "source": [
    "## Visualisations"
   ]
  },
  {
   "cell_type": "markdown",
   "id": "969d68fd-7a1a-4ca5-8926-777a841b2e60",
   "metadata": {},
   "source": [
    "### Fully remote job pie chart"
   ]
  },
  {
   "cell_type": "code",
   "execution_count": null,
   "id": "62110625-38db-4eba-b7d9-dc80ed6cca60",
   "metadata": {},
   "outputs": [],
   "source": [
    "fig = px.pie(prep_df, names='remote', title='Fully remote possibility')\n",
    "html(fig.to_html())"
   ]
  },
  {
   "cell_type": "markdown",
   "id": "9de0176e-95ef-46e2-9988-e40778ac6e8c",
   "metadata": {},
   "source": [
    "### Categories and technologies pie charts "
   ]
  },
  {
   "cell_type": "code",
   "execution_count": null,
   "id": "34b33f07-1257-4d3d-a19a-d900c1454307",
   "metadata": {},
   "outputs": [],
   "source": [
    "tech_15_largest = prep_df['technology'].value_counts().nlargest(15).index.to_list()\n",
    "tech_15_largest_df = prep_df[prep_df['technology'].isin(tech_15_largest)]\n",
    "fig = px.pie(tech_15_largest_df, names='technology', title='Main technology')\n",
    "html(fig.to_html())"
   ]
  },
  {
   "cell_type": "code",
   "execution_count": null,
   "id": "97b9b4d9-91e4-433d-91d0-2699d89eea6e",
   "metadata": {},
   "outputs": [],
   "source": [
    "cat_15_largest = prep_df['category'].value_counts().nlargest(15).index.to_list()\n",
    "cat_15_largest_df = prep_df[prep_df['category'].isin(cat_15_largest)]\n",
    "fig = px.pie(cat_15_largest_df, names='category', title='Category')\n",
    "html(fig.to_html())"
   ]
  },
  {
   "cell_type": "markdown",
   "id": "713b80af-7518-468d-93a7-69c315413822",
   "metadata": {},
   "source": [
    "### Seniority"
   ]
  },
  {
   "cell_type": "code",
   "execution_count": null,
   "id": "f3319898-8a93-44d5-93e2-1d3d83917347",
   "metadata": {},
   "outputs": [],
   "source": [
    "fig = px.pie(prep_df, names='seniority', title='Seniority')\n",
    "html(fig.to_html())"
   ]
  },
  {
   "cell_type": "markdown",
   "id": "13572781-bfaa-443c-b3a8-000012911348",
   "metadata": {},
   "source": [
    "### Categories and technologies sankey chart "
   ]
  },
  {
   "cell_type": "code",
   "execution_count": null,
   "id": "cceef881-f257-49b8-b003-e79cac5dbf88",
   "metadata": {},
   "outputs": [],
   "source": [
    "catgrp = prep_df.groupby('category')['technology'].value_counts()\n",
    "catgrp = catgrp.drop(catgrp[catgrp < 13].index)\n",
    "catgrp = catgrp.dropna()"
   ]
  },
  {
   "cell_type": "code",
   "execution_count": null,
   "id": "20baa439-852d-49f7-9452-cc18ba83beca",
   "metadata": {},
   "outputs": [],
   "source": [
    "catgrp_list = catgrp.index.to_list()\n",
    "sources = [el[0] for el in catgrp_list]\n",
    "targets = [el[1] for el in catgrp_list]\n",
    "values = catgrp.to_list()"
   ]
  },
  {
   "cell_type": "code",
   "execution_count": null,
   "id": "59d2550f-ffaa-446d-b67c-2d144072d769",
   "metadata": {},
   "outputs": [],
   "source": [
    "from sklearn import preprocessing\n",
    "le = preprocessing.LabelEncoder()\n",
    "le.fit(sources + targets)\n",
    "sources_e = le.transform(sources)\n",
    "targets_e = le.transform(targets)"
   ]
  },
  {
   "cell_type": "code",
   "execution_count": null,
   "id": "d6c30f2c-8e14-47aa-8090-7a04a8224abf",
   "metadata": {},
   "outputs": [],
   "source": [
    "fig = go.Figure(data=[go.Sankey(\n",
    "    node = dict(\n",
    "      label = np.unique(sources + targets),\n",
    "    ),\n",
    "    link = dict(\n",
    "      source = sources_e,\n",
    "      target = targets_e,\n",
    "      value = values\n",
    "  ))])\n",
    "\n",
    "fig.update_layout(title_text=\"Job category vs main technology\", font_size=10)\n",
    "html(fig.to_html())"
   ]
  },
  {
   "cell_type": "markdown",
   "id": "e4cca429-f655-4549-8ad2-d3a10aa321e7",
   "metadata": {},
   "source": [
    "### Maps"
   ]
  },
  {
   "cell_type": "code",
   "execution_count": null,
   "id": "2cee3ba3-5914-47bf-88e3-916a73ab0dea",
   "metadata": {},
   "outputs": [],
   "source": [
    "cities_df = prep_df.explode('city')\n",
    "cities_df[['city', 'lat', 'lon']] = cities_df['city'].transform(lambda city: pd.Series([city[0], city[1], city[2]]))\n",
    "seniority_cities_df = cities_df.explode('seniority')"
   ]
  },
  {
   "cell_type": "code",
   "execution_count": null,
   "id": "38ad0ff6-e930-4ee1-af89-37cd0f308c27",
   "metadata": {},
   "outputs": [],
   "source": [
    "job_counts = cities_df.groupby('city')['id'].count()\n",
    "salaries = cities_df.groupby('city')[['salary_mean', 'lat', 'lon']].mean()\n",
    "cities_salaries = pd.concat([job_counts.rename('job_counts'), salaries], axis=1)\n",
    "cities_salaries = cities_salaries.nlargest(10, 'job_counts')\n",
    "cities_salaries = cities_salaries.reset_index()\n",
    "fig = px.scatter_geo(cities_salaries, scope='europe', lat='lat', lon='lon',\n",
    "                     size='job_counts', color='salary_mean', title='Salary mean and jobs number',\n",
    "                     fitbounds='locations', hover_data={'city': True})\n",
    "html(fig.to_html())"
   ]
  },
  {
   "cell_type": "code",
   "execution_count": null,
   "id": "c4a8fbe4-0795-4565-9814-47c56e045869",
   "metadata": {},
   "outputs": [],
   "source": [
    "seniority_cities_df = cities_df.explode('seniority')\n",
    "seniority_cities_df = seniority_cities_df[seniority_cities_df['seniority'].isin(('Junior', 'Mid', 'Senior'))]\n",
    "salaries = seniority_cities_df.groupby(['seniority', 'city'])[['salary_mean', 'lat', 'lon']].mean()\n",
    "job_counts = seniority_cities_df.groupby(['seniority', 'city'])['id'].count()\n",
    "jobs_cities_salaries = pd.concat([salaries, job_counts.rename('job_counts')], axis=1).reset_index()\n",
    "fig = px.scatter_geo(jobs_cities_salaries, scope='europe', lat='lat', lon='lon',\n",
    "                     size='job_counts', color='salary_mean', fitbounds='locations',\n",
    "                     title='Salary mean and jobs number',\n",
    "                     hover_data={'city': True}, facet_col='seniority')\n",
    "html(fig.to_html())"
   ]
  },
  {
   "cell_type": "markdown",
   "id": "524e9a8f-a035-4f01-912f-0f2831128fe3",
   "metadata": {},
   "source": [
    "### Histogram "
   ]
  },
  {
   "cell_type": "code",
   "execution_count": null,
   "id": "8eb3ff5a-a8f0-414e-98be-c67b88d3ce15",
   "metadata": {},
   "outputs": [],
   "source": [
    "seniority_df = prep_df.explode('seniority')\n",
    "fig = px.histogram(seniority_df, x='salary_mean', color='seniority', range_x=(0, 40000), title='Salaries histogram')\n",
    "html(fig.to_html())"
   ]
  },
  {
   "cell_type": "markdown",
   "id": "f5ac191c-9c59-47a0-9986-93f1bd9e2f4d",
   "metadata": {},
   "source": [
    "### Violin"
   ]
  },
  {
   "cell_type": "code",
   "execution_count": null,
   "id": "2ff70390-b41f-48ef-910d-364e8e66db1d",
   "metadata": {},
   "outputs": [],
   "source": [
    "tech_8_largest = prep_df['technology'].value_counts().nlargest(8).index.to_list()\n",
    "tech_8_largest_df = prep_df[prep_df['technology'].isin(tech_8_largest)]\n",
    "limited_salary = tech_8_largest_df[~(tech_8_largest_df['salary_mean'] > 40000)]\n",
    "b2b_df = limited_salary[limited_salary['contract_type'] == 'b2b']\n",
    "perm_df = limited_salary[limited_salary['contract_type'] == 'permanent']\n",
    "\n",
    "fig = go.Figure()\n",
    "fig.add_trace(go.Violin(x=b2b_df['technology'],\n",
    "                        y=b2b_df['salary_mean'],\n",
    "                        legendgroup='b2b', scalegroup='b2b', name='b2b',\n",
    "                        side='negative', points=False))\n",
    "fig.add_trace(go.Violin(x=perm_df['technology'],\n",
    "                        y=perm_df['salary_mean'],\n",
    "                        legendgroup='permanent', scalegroup='permanent', name='permanent',\n",
    "                        side='positive', points=False))\n",
    "fig.update_traces(meanline_visible=True)\n",
    "fig.update_layout(violingap=0, violinmode='overlay')\n",
    "html(fig.to_html())"
   ]
  },
  {
   "cell_type": "code",
   "execution_count": null,
   "id": "00ec7918-3e03-465d-b630-a00657c6e359",
   "metadata": {},
   "outputs": [],
   "source": [
    "tech_8_largest = prep_df['technology'].value_counts().nlargest(8).index.to_list()\n",
    "tech_8_largest_df = prep_df[prep_df['technology'].isin(tech_8_largest)]\n",
    "limited_salary = tech_8_largest_df[~(tech_8_largest_df['salary_mean'] > 40000)]\n",
    "seniority_df = limited_salary.explode('seniority')\n",
    "seniority_df = seniority_df[seniority_df['seniority'].isin(('Junior', 'Mid', 'Senior'))]\n",
    "fig = px.violin(seniority_df, y='salary_mean', x='technology', color='seniority', violinmode='overlay', title='Salaries', points=False)\n",
    "html(fig.to_html())"
   ]
  }
 ],
 "metadata": {
  "kernelspec": {
   "display_name": "Python 3",
   "language": "python",
   "name": "python3"
  },
  "language_info": {
   "codemirror_mode": {
    "name": "ipython",
    "version": 3
   },
   "file_extension": ".py",
   "mimetype": "text/x-python",
   "name": "python",
   "nbconvert_exporter": "python",
   "pygments_lexer": "ipython3",
   "version": "3.9.7"
  }
 },
 "nbformat": 4,
 "nbformat_minor": 5
}
